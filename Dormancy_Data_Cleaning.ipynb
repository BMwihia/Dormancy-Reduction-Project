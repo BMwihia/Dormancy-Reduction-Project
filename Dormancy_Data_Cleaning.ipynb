{
 "cells": [
  {
   "cell_type": "markdown",
   "metadata": {},
   "source": [
    "### Project scaffold"
   ]
  },
  {
   "cell_type": "markdown",
   "metadata": {},
   "source": [
    "Dormancy-Reduction-Project/\n",
    "│\n",
    "├── data/\n",
    "│   ├── raw/\n",
    "│   │   ├── transactions/         # drop Dec-2024..Aug-2025 monthly transactions here\n",
    "│   │   └── balances/             # drop Dec-2024..Aug-2025 monthly balances here\n",
    "│   ├── processed/                # outputs from notebooks\n",
    "│   └── external/                 # mapping files (branch, GL→category)\n",
    "│\n",
    "├── notebooks/\n",
    "│   ├── 01_data_cleaning.ipynb\n",
    "│   ├── 01b_balances_cleaning.ipynb\n",
    "│   ├── 02_aggregation.ipynb\n",
    "│   ├── 03_quality_checks.ipynb\n",
    "│   └── 04_analysis_visuals.ipynb\n",
    "│\n",
    "├── reports/\n",
    "│   ├── figures/\n",
    "│   └── summary.md\n",
    "│\n",
    "├── scripts/                      # optional: reusable functions\n",
    "│   └── helpers.py\n",
    "│\n",
    "├── README.md\n",
    "├── RUNBOOK.md\n",
    "├── requirements.txt\n",
    "└── .gitignore"
   ]
  },
  {
   "cell_type": "markdown",
   "metadata": {},
   "source": [
    "### .gitignore"
   ]
  },
  {
   "cell_type": "markdown",
   "metadata": {},
   "source": [
    "data/raw/*\n",
    "data/processed/*\n",
    "*.csv\n",
    "*.xlsx\n",
    "*.parquet\n",
    "*.pkl\n",
    ".DS_Store\n",
    ".ipynb_checkpoints/\n",
    ".env\n"
   ]
  },
  {
   "cell_type": "markdown",
   "metadata": {},
   "source": [
    "### requirements.txt\n"
   ]
  },
  {
   "cell_type": "markdown",
   "metadata": {},
   "source": [
    "pandas\n",
    "numpy\n",
    "matplotlib\n",
    "seaborn\n",
    "openpyxl\n",
    "jupyter\n"
   ]
  },
  {
   "cell_type": "code",
   "execution_count": null,
   "metadata": {},
   "outputs": [],
   "source": []
  }
 ],
 "metadata": {
  "kernelspec": {
   "display_name": "Python (learn-env)",
   "language": "python",
   "name": "learn-env"
  },
  "language_info": {
   "codemirror_mode": {
    "name": "ipython",
    "version": 3
   },
   "file_extension": ".py",
   "mimetype": "text/x-python",
   "name": "python",
   "nbconvert_exporter": "python",
   "pygments_lexer": "ipython3",
   "version": "3.8.5"
  }
 },
 "nbformat": 4,
 "nbformat_minor": 4
}
