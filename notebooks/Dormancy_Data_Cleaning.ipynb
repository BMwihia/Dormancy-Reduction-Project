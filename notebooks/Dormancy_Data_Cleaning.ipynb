{
 "cells": [
  {
   "cell_type": "markdown",
   "metadata": {},
   "source": [
    "# 01 — Transactions Data Cleaning\n",
    "\n",
    "## 1.0 Business Understanding\n",
    "Dormancy in customer accounts leads to reduced activity, low digital adoption, and lost business opportunities.  \n",
    "To address this, we start by preparing a **clean transactions dataset** covering Dec 2024 – Aug 2025.  \n",
    "\n",
    "This notebook focuses on:\n",
    "- Merging raw monthly transaction reports.  \n",
    "- Excluding invalid statuses (D, J, R).  \n",
    "- Deriving reporting months from transaction dates.  \n",
    "- Classifying transactions into channel groups.  \n",
    "- Saving a clean file for later aggregation.\n",
    "\n",
    "---\n",
    "\n",
    "## 2.0 Data Sources\n",
    "- **Transactions Data (Dec 2024 – Aug 2025)**  \n",
    "  - Location: `data/raw/transactions/`  \n",
    "  - Format: monthly `.csv` / `.xlsx` files.  \n",
    "- **Exclusions**  \n",
    "  - Status codes: D = Declined, J = Reversed, R = Rejected.  \n",
    "- **Confidentiality**  \n",
    "  - Raw files are excluded from GitHub (`.gitignore`).\n"
   ]
  },
  {
   "cell_type": "code",
   "execution_count": 10,
   "metadata": {},
   "outputs": [],
   "source": [
    "# 3.0 Import Libraries\n",
    "import pandas as pd\n",
    "import numpy as np\n",
    "from pathlib import Path\n",
    "import os\n",
    "\n",
    "pd.set_option(\"display.max_columns\", None)"
   ]
  },
  {
   "cell_type": "markdown",
   "metadata": {},
   "source": [
    "## 4.0 Locate Files\n",
    "We check both relative paths (`data/raw/transactions` and `../data/raw/transactions`)  \n",
    "so the notebook works whether run from the project root or the `notebooks/` folder."
   ]
  },
  {
   "cell_type": "code",
   "execution_count": 11,
   "metadata": {},
   "outputs": [
    {
     "name": "stdout",
     "output_type": "stream",
     "text": [
      "cwd: C:\\Users\\USER\\Documents\\Personal Projects\\Dormancy\n",
      "Looking in: C:\\Users\\USER\\Documents\\Personal Projects\\Dormancy\\data\\raw\\transactions\n",
      "Files found: 11\n",
      " - Branch Activity - 01.08.25 - 20.08.25.csv\n",
      " - Branch Activity - 21.08.25 - 31.08.25.csv\n",
      " - Branch Activity - 30.06.25.csv\n",
      " - Branch Activity - June 2025.csv\n",
      " - Branch Activity - March 2025.csv\n",
      " - Branch Activity -28.02.25.csv\n",
      " - Branch Activity 30.04.25.csv\n",
      " - Branch Activity 31.01.25.csv\n",
      " - Branch Activity 31.05.25.csv\n",
      " - Branch_Activity - July 2025.csv\n",
      " - Branch Activity - 31.12.24.xlsx\n"
     ]
    }
   ],
   "source": [
    "# Check current working directory\n",
    "print(\"cwd:\", os.getcwd())\n",
    "\n",
    "# Try possible paths\n",
    "p1 = Path(\"data/raw/transactions\")\n",
    "p2 = Path(\"../data/raw/transactions\")\n",
    "\n",
    "if p1.exists():\n",
    "    raw_dir = p1\n",
    "elif p2.exists():\n",
    "    raw_dir = p2\n",
    "else:\n",
    "    raise FileNotFoundError(\"❌ Could not find transactions folder. Check project structure.\")\n",
    "\n",
    "# List files\n",
    "files = list(raw_dir.glob(\"*.csv\")) + list(raw_dir.glob(\"*.xlsx\")) + list(raw_dir.glob(\"*.xls\"))\n",
    "print(\"Looking in:\", raw_dir.resolve())\n",
    "print(\"Files found:\", len(files))\n",
    "for f in files:\n",
    "    print(\" -\", f.name)\n",
    "\n",
    "if not files:\n",
    "    raise FileNotFoundError(f\"No transaction files found in {raw_dir}\")"
   ]
  },
  {
   "cell_type": "markdown",
   "metadata": {},
   "source": [
    "## 5.0 Load and Merge Monthly Transactions\n",
    "All files are merged into one DataFrame.  "
   ]
  },
  {
   "cell_type": "code",
   "execution_count": null,
   "metadata": {},
   "outputs": [],
   "source": [
    "def read_file(f):\n",
    "    if f.suffix.lower() in [\".xlsx\", \".xls\"]:\n",
    "        return pd.read_excel(f)\n",
    "    return pd.read_csv(f)\n",
    "\n",
    "tx = pd.concat([read_file(f) for f in files], ignore_index=True)\n",
    "tx.columns = [c.strip() for c in tx.columns]\n",
    "print(\"Merged shape:\", tx.shape)\n",
    "tx.head()/balances"
   ]
  },
  {
   "cell_type": "markdown",
   "metadata": {},
   "source": [
    "## 6.0 Clean Data\n",
    "Steps:\n",
    "1. Exclude invalid statuses (D, J, R).  \n",
    "2. Convert `created_date` into datetime.  \n",
    "3. Create `Reporting_Month` = month-end date.  Full-time"
   ]
  },
  {
   "cell_type": "code",
   "execution_count": null,
   "metadata": {},
   "outputs": [],
   "source": [
    "# 1) Exclude invalid statuses\n",
    "tx['status'] = tx['status'].astype(str).str.upper().str.strip()\n",
    "tx = tx[~tx['status'].isin({'D','J','R'})]\n",
    "\n",
    "# 2) Convert created_date\n",
    "tx['created_date'] = pd.to_datetime(tx['created_date'], errors='coerce', dayfirst=True)\n",
    "\n",
    "# 3) Reporting Month\n",
    "tx['Reporting_Month'] = tx['created_date'].dt.to_period('M').dt.to_timestamp('M')\n",
    "\n",
    "tx[['created_date','Reporting_Month']].head()"
   ]
  },
  {
   "cell_type": "markdown",
   "metadata": {},
   "source": [
    "## 7.0 Classify Channels\n",
    "Rules:\n",
    "- **Mobile** → tran_type in Mobile Banking (withdrawal, transfer, charges, airtime, utility, paybill, pesalink).  \n",
    "- **Biz2Bank** → RTS PAYBILL DEPOSITS, RTS MPESA DEPOSIT.  \n",
    "- **GABCollect** → GABCollect.  \n",
    "- **Internet** → if created_by = IBKTLR.  \n",
    "- **ATM** → if channels = ATM.  \n",
    "- **Other** → everything else."
   ]
  },
  {
   "cell_type": "code",
   "execution_count": null,
   "metadata": {},
   "outputs": [],
   "source": [
    "MOBILE_TYPES = {\n",
    "    'MOBILE BANKING MPESA WITHDRAWAL',\n",
    "    'MOBILE BANKING TRANSFER',\n",
    "    'MB CHARGES',\n",
    "    'MOBILE BANKING AIRTIME PURCHASE',\n",
    "    'MB UTILITY PAYMENT',\n",
    "    'MB PAYBILL',\n",
    "    'PESALINK TRANSFER',\n",
    "    'PESALINK DEPOSIT'\n",
    "}\n",
    "BIZ2BANK_TYPES = {'RTS PAYBILL DEPOSITS', 'RTS MPESA DEPOSIT'}\n",
    "\n",
    "def classify_channel(row):\n",
    "    tt = str(row.get('tran_type','')).upper().strip()\n",
    "    created_by = str(row.get('created_by','')).upper().strip()\n",
    "    ch = str(row.get('channels','')).upper().strip()\n",
    "    \n",
    "    if tt in MOBILE_TYPES or tt.startswith(\"MOBILE BANKING\") or \"PESALINK\" in tt:\n",
    "        return \"Mobile\"\n",
    "    if tt in BIZ2BANK_TYPES:\n",
    "        return \"Biz2Bank\"\n",
    "    if tt == \"GABCOLLECT\":\n",
    "        return \"GABCollect\"\n",
    "    if created_by == \"IBKTLR\":\n",
    "        return \"Internet\"\n",
    "    if ch == \"ATM\":\n",
    "        return \"ATM\"\n",
    "    return \"Other\"\n",
    "\n",
    "tx['Channel_Group'] = tx.apply(classify_channel, axis=1)\n",
    "\n",
    "# Flags\n",
    "tx['IsDigital'] = tx['Channel_Group'].isin(['Mobile','Internet','Biz2Bank']).astype(int)\n",
    "tx['IsPhysical'] = tx['Channel_Group'].eq('ATM').astype(int)\n",
    "\n",
    "tx['Channel_Group'].value_counts()"
   ]
  },
  {
   "cell_type": "markdown",
   "metadata": {},
   "source": [
    "## 8.0 Save Clean Transactions\n",
    "The cleaned dataset is saved (ignored by Git)."
   ]
  },
  {
   "cell_type": "code",
   "execution_count": null,
   "metadata": {},
   "outputs": [],
   "source": [
    "out_path = Path(\"data/processed/transactions_clean.csv\")\n",
    "tx.to_csv(out_path, index=False)\n",
    "print(\"✅ Clean data saved to:\", out_path.resolve())"
   ]
  },
  {
   "cell_type": "code",
   "execution_count": null,
   "metadata": {},
   "outputs": [],
   "source": []
  }
 ],
 "metadata": {
  "kernelspec": {
   "display_name": "Python (learn-env)",
   "language": "python",
   "name": "learn-env"
  },
  "language_info": {
   "codemirror_mode": {
    "name": "ipython",
    "version": 3
   },
   "file_extension": ".py",
   "mimetype": "text/x-python",
   "name": "python",
   "nbconvert_exporter": "python",
   "pygments_lexer": "ipython3",
   "version": "3.8.5"
  }
 },
 "nbformat": 4,
 "nbformat_minor": 4
}
